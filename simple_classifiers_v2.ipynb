{
  "nbformat": 4,
  "nbformat_minor": 0,
  "metadata": {
    "colab": {
      "name": "simple_classifiers_v2.ipynb",
      "version": "0.3.2",
      "provenance": [],
      "collapsed_sections": [],
      "include_colab_link": true
    },
    "kernelspec": {
      "name": "python3",
      "display_name": "Python 3"
    }
  },
  "cells": [
    {
      "cell_type": "markdown",
      "metadata": {
        "id": "view-in-github",
        "colab_type": "text"
      },
      "source": [
        "<a href=\"https://colab.research.google.com/github/ashekhar20/league_predict/blob/master/simple_classifiers_v2.ipynb\" target=\"_parent\"><img src=\"https://colab.research.google.com/assets/colab-badge.svg\" alt=\"Open In Colab\"/></a>"
      ]
    },
    {
      "cell_type": "code",
      "metadata": {
        "id": "TZnOxxoGokin",
        "colab_type": "code",
        "colab": {}
      },
      "source": [
        "import numpy as np\n",
        "import pandas as pd\n",
        "import matplotlib.pyplot as plt\n",
        "import seaborn as sns"
      ],
      "execution_count": 0,
      "outputs": []
    },
    {
      "cell_type": "code",
      "metadata": {
        "id": "NHRZ_1Rzo2A4",
        "colab_type": "code",
        "colab": {}
      },
      "source": [
        "base_url = 'https://raw.githubusercontent.com/ashekhar20/league_predict/master/data/'\n",
        "data_dict=base_url+'data_dictionary.xlsx'\n",
        "train_file=base_url+'train.csv'\n",
        "test_file=base_url+'test.csv'"
      ],
      "execution_count": 0,
      "outputs": []
    },
    {
      "cell_type": "code",
      "metadata": {
        "id": "itEpqpJW4jjf",
        "colab_type": "code",
        "outputId": "70207328-2066-4cac-b3b9-ef5c752ad984",
        "colab": {
          "base_uri": "https://localhost:8080/",
          "height": 34
        }
      },
      "source": [
        "df1 = pd.read_csv(train_file)\n",
        "df2 = pd.read_csv(test_file)\n",
        "df1.shape, df2.shape"
      ],
      "execution_count": 4,
      "outputs": [
        {
          "output_type": "execute_result",
          "data": {
            "text/plain": [
              "((252, 30), (76, 30))"
            ]
          },
          "metadata": {
            "tags": []
          },
          "execution_count": 4
        }
      ]
    },
    {
      "cell_type": "markdown",
      "metadata": {
        "id": "bitU93g9_WRG",
        "colab_type": "text"
      },
      "source": [
        "Check for any column mismatch in train and test data"
      ]
    },
    {
      "cell_type": "code",
      "metadata": {
        "id": "Rkdf6Z_L-4wc",
        "colab_type": "code",
        "outputId": "e3a3d1ff-1669-45b4-b620-2858f442a5f4",
        "colab": {
          "base_uri": "https://localhost:8080/",
          "height": 119
        }
      },
      "source": [
        "print(\"In Train, not in Test:\")\n",
        "for c in set(df1.columns):\n",
        "  if c not in set(df2.columns):\n",
        "    print(c)\n",
        "  \n",
        "print(\"In Test, not in Train:\")\n",
        "for c in set(df2.columns):\n",
        "  if c not in set(df1.columns):\n",
        "    print(c)"
      ],
      "execution_count": 5,
      "outputs": [
        {
          "output_type": "stream",
          "text": [
            "In Train, not in Test:\n",
            "City\n",
            "DayOfWeek\n",
            "In Test, not in Train:\n",
            "CityOfGame\n",
            "Day\n"
          ],
          "name": "stdout"
        }
      ]
    },
    {
      "cell_type": "code",
      "metadata": {
        "id": "5qSQ15qEAP-h",
        "colab_type": "code",
        "colab": {}
      },
      "source": [
        "# rename two columns in test to match those in train\n",
        "df2.rename(columns={\"Day\": \"DayOfWeek\", \"CityOfGame\":\"City\"}, inplace=True)"
      ],
      "execution_count": 0,
      "outputs": []
    },
    {
      "cell_type": "code",
      "metadata": {
        "id": "45mEKI2I8SHq",
        "colab_type": "code",
        "colab": {}
      },
      "source": [
        "def preprocess_data(mydf):\n",
        "  # Extract Year and Hour of the match\n",
        "  mydf['DateTimeOfGame']=pd.to_datetime(mydf['DateOfGame']+'T'+mydf['TimeOfGame'])\n",
        "  mydf['YearOfGame']=mydf['DateTimeOfGame'].dt.year\n",
        "  mydf['HourOfGame']=mydf['DateTimeOfGame'].dt.hour\n",
        "  \n",
        "  # Is Home team batting first?\n",
        "  mydf['isTeam1Home'] = mydf.apply(lambda x: x['City'] in x['Team 1'], axis=1)\n",
        "  \n",
        "  # Obtain match number for each team. \n",
        "  tmp1=mydf[['Team 1','YearOfGame','DateTimeOfGame']]\n",
        "  tmp1.rename(columns={\"Team 1\": \"Team\"}, inplace=True)\n",
        "  tmp2=mydf[['Team 2','YearOfGame','DateTimeOfGame']]\n",
        "  tmp2.rename(columns={\"Team 2\": \"Team\"}, inplace=True)\n",
        "  tmp=pd.concat([tmp1,tmp2])\n",
        "  tt=tmp.groupby(['Team','YearOfGame'])[\"DateTimeOfGame\"].rank(\"dense\", ascending=True)\n",
        "  tmp['TeamMatchNum']=tt.values.astype(int)\n",
        "  tmp2=tmp.sort_values(by=['Team','DateTimeOfGame'])\n",
        "  tmp2['match_key']=tmp2['Team']+tmp2['DateTimeOfGame'].astype(str)\n",
        "  tmp2=tmp2.set_index('match_key')\n",
        "  matchnum_dict=tmp2[['TeamMatchNum']].to_dict()\n",
        "  # We'll update the main dataframe with TeamMatchNum using match_key (which is unique)\n",
        "  # We'll create two new columns: Team1MatchNum and Team2MatchNum.\n",
        "  mydf['match_key']=mydf['Team 1']+mydf['DateTimeOfGame'].astype(str)\n",
        "  mydf['Team1MatchNum']=mydf['match_key'].map(matchnum_dict['TeamMatchNum'])\n",
        "  mydf['match_key']=mydf['Team 2']+mydf['DateTimeOfGame'].astype(str)\n",
        "  mydf['Team2MatchNum']=mydf['match_key'].map(matchnum_dict['TeamMatchNum'])\n",
        "  \n",
        "  return mydf\n",
        "  \n",
        "def prepare_data(mydf, feature_columns, dependant):\n",
        "  tmpdf=mydf[feature_columns]\n",
        "  tdf=pd.get_dummies(tmpdf)\n",
        "  X=tdf.to_numpy()\n",
        "  y=mydf[dependant].values\n",
        "  \n",
        "  return X,y, tdf.columns\n"
      ],
      "execution_count": 0,
      "outputs": []
    },
    {
      "cell_type": "code",
      "metadata": {
        "id": "cW9LUcf8k0Vv",
        "colab_type": "code",
        "outputId": "20468aa0-7775-45dd-983e-d845b41b9082",
        "colab": {
          "base_uri": "https://localhost:8080/",
          "height": 119
        }
      },
      "source": [
        "traindf=preprocess_data(df1)\n",
        "print(traindf.shape)"
      ],
      "execution_count": 8,
      "outputs": [
        {
          "output_type": "stream",
          "text": [
            "(252, 37)\n"
          ],
          "name": "stdout"
        },
        {
          "output_type": "stream",
          "text": [
            "/usr/local/lib/python3.6/dist-packages/pandas/core/frame.py:4025: SettingWithCopyWarning: \n",
            "A value is trying to be set on a copy of a slice from a DataFrame\n",
            "\n",
            "See the caveats in the documentation: http://pandas.pydata.org/pandas-docs/stable/indexing.html#indexing-view-versus-copy\n",
            "  return super(DataFrame, self).rename(**kwargs)\n"
          ],
          "name": "stderr"
        }
      ]
    },
    {
      "cell_type": "markdown",
      "metadata": {
        "id": "sOrfQ9R0kbtE",
        "colab_type": "text"
      },
      "source": [
        "  Now our dataframe is ready for training. We'll identify the columns to be selected and take a subset of the dataframe. We'll return X matrix and y vector"
      ]
    },
    {
      "cell_type": "code",
      "metadata": {
        "id": "DhucErE2kW9S",
        "colab_type": "code",
        "colab": {}
      },
      "source": [
        "feature_columns=['HourOfGame','isTeam1Home',\n",
        "     'Team1MatchNum','Team2MatchNum','AvgWindSpeed', 'AvgHumidity',\n",
        "     'Inn 1 Team 1 NOP R>25,SR>125', 'Inn 1 Team 1 NOP R<25, SR>125',\n",
        "     'Inn 1 Team 1 Total 4s', 'Inn 1 Team 1 Total 6s',\n",
        "     'Inn 1 Team 1 Max Strike Rate_ALLBatsmen',\n",
        "     'Inn 1 Team 2 NoP fast bowlers', 'Inn 1 Team 2 NoP Spinners',\n",
        "     'Inn 1 Team 2 wickets taken_catches_runout',\n",
        "     'Inn1 Team 2 wickets taken_ bowled _lbw_caught by keeper_stumping',\n",
        "     'Inn 1 Team 2 Extras conceded in_wides_No Balls',\n",
        "     'Inn 2 Team 2 NOP R>25,SR>125', 'Inn 2 Team 2 NOP R<25, SR>125',\n",
        "     'Inn 2 Team 2 Total 4s', 'Inn 2 Team 2 Total 6s',\n",
        "     'Inn 2 Team 2 Max Strike Rate_ALLBatsmen',\n",
        "     'Inn 2 Team 1 NoP fast bowlers', 'Inn 2 Team 1 NoP Spinners',\n",
        "     'Inn 2 Team 1 wickets taken_catches_runout',\n",
        "     'Inn2 Team 1 wickets taken_ bowled _lbw_caught by keeper_stumping',\n",
        "     'Inn 2 Team 1 Extras conceded in_wides_No Balls',\n",
        "     ]\n",
        "dependant='Winner (team 1=1, team 2=0)'"
      ],
      "execution_count": 0,
      "outputs": []
    },
    {
      "cell_type": "code",
      "metadata": {
        "id": "vrcKfkN79ikj",
        "colab_type": "code",
        "colab": {
          "base_uri": "https://localhost:8080/",
          "height": 34
        },
        "outputId": "fb8c13e2-3f80-40b3-d0bb-8403cf29ec88"
      },
      "source": [
        "trainX, trainY, trainCols = prepare_data(traindf, feature_columns, dependant)\n",
        "print(trainX.shape, trainY.shape)"
      ],
      "execution_count": 10,
      "outputs": [
        {
          "output_type": "stream",
          "text": [
            "(252, 26) (252,)\n"
          ],
          "name": "stdout"
        }
      ]
    },
    {
      "cell_type": "code",
      "metadata": {
        "id": "YeiEO3eG-My3",
        "colab_type": "code",
        "outputId": "ad06f5f6-d9b4-4302-fa81-d72e2dcca5cd",
        "colab": {
          "base_uri": "https://localhost:8080/",
          "height": 119
        }
      },
      "source": [
        "testdf=preprocess_data(df2)\n",
        "testX, y_true, testCols = prepare_data(testdf, feature_columns, dependant)\n",
        "print(testX.shape, y_true.shape)"
      ],
      "execution_count": 11,
      "outputs": [
        {
          "output_type": "stream",
          "text": [
            "(76, 26) (76,)\n"
          ],
          "name": "stdout"
        },
        {
          "output_type": "stream",
          "text": [
            "/usr/local/lib/python3.6/dist-packages/pandas/core/frame.py:4025: SettingWithCopyWarning: \n",
            "A value is trying to be set on a copy of a slice from a DataFrame\n",
            "\n",
            "See the caveats in the documentation: http://pandas.pydata.org/pandas-docs/stable/indexing.html#indexing-view-versus-copy\n",
            "  return super(DataFrame, self).rename(**kwargs)\n"
          ],
          "name": "stderr"
        }
      ]
    },
    {
      "cell_type": "code",
      "metadata": {
        "id": "-iLtEXNDzoH3",
        "colab_type": "code",
        "colab": {}
      },
      "source": [
        "from sklearn.linear_model import LogisticRegression\n",
        "from sklearn.ensemble import RandomForestClassifier\n",
        "from sklearn.svm import SVC\n",
        "from sklearn.metrics import confusion_matrix, accuracy_score, precision_score, recall_score, f1_score"
      ],
      "execution_count": 0,
      "outputs": []
    },
    {
      "cell_type": "code",
      "metadata": {
        "id": "HmJoigZrCAws",
        "colab_type": "code",
        "colab": {}
      },
      "source": [
        "lr = LogisticRegression(solver='lbfgs', max_iter=2000)\n",
        "rfc = RandomForestClassifier(n_estimators=100)"
      ],
      "execution_count": 0,
      "outputs": []
    },
    {
      "cell_type": "code",
      "metadata": {
        "id": "p7vUDlcpzn9N",
        "colab_type": "code",
        "outputId": "f164e688-5018-4e86-d123-5c3db87e5cd5",
        "colab": {
          "base_uri": "https://localhost:8080/",
          "height": 337
        }
      },
      "source": [
        "clf=lr\n",
        "m=clf.fit(trainX, trainY)\n",
        "y_pred=clf.predict(testX)\n",
        "cm=confusion_matrix(y_true, y_pred)\n",
        "cmdf=pd.DataFrame(cm,index=[\"true 0\", \"true 1\"], columns=[\"pred 0\", \"pred 1\"])\n",
        "print(cmdf)\n",
        "sns.heatmap(cmdf,annot=True,annot_kws={\"size\": 16})"
      ],
      "execution_count": 14,
      "outputs": [
        {
          "output_type": "stream",
          "text": [
            "        pred 0  pred 1\n",
            "true 0      40       2\n",
            "true 1       5      29\n"
          ],
          "name": "stdout"
        },
        {
          "output_type": "execute_result",
          "data": {
            "text/plain": [
              "<matplotlib.axes._subplots.AxesSubplot at 0x7fbd69af6780>"
            ]
          },
          "metadata": {
            "tags": []
          },
          "execution_count": 14
        },
        {
          "output_type": "display_data",
          "data": {
            "image/png": "[encoded data removed]",
            "text/plain": [
              "<Figure size 432x288 with 2 Axes>"
            ]
          },
          "metadata": {
            "tags": []
          }
        }
      ]
    },
    {
      "cell_type": "code",
      "metadata": {
        "id": "hYBLxzofzn5k",
        "colab_type": "code",
        "outputId": "3f7d1f94-5ead-42a4-f616-083cac4d566e",
        "colab": {
          "base_uri": "https://localhost:8080/",
          "height": 142
        }
      },
      "source": [
        "clfnames=['Logistic Regression', 'Random Forest Classifier']\n",
        "rep=[]\n",
        "for clf, name in zip([lr, rfc], clfnames):\n",
        "  m=clf.fit(trainX, trainY)\n",
        "  y_pred=clf.predict(testX)\n",
        "  accuracy=accuracy_score(y_true, y_pred)\n",
        "  precision=precision_score(y_true, y_pred)\n",
        "  recall=recall_score(y_true, y_pred)\n",
        "  f1=f1_score(y_true, y_pred)\n",
        "  rep.append([name,accuracy,precision,recall,f1])\n",
        "  #print(name, accuracy)\n",
        "\n",
        "resdf=pd.DataFrame(rep, columns=['classifier', 'accuracy', 'precision', 'recall', 'f1_score']).set_index('classifier')\n",
        "resdf.head()"
      ],
      "execution_count": 16,
      "outputs": [
        {
          "output_type": "execute_result",
          "data": {
            "text/html": [
              "<div>\n",
              "<style scoped>\n",
              "    .dataframe tbody tr th:only-of-type {\n",
              "        vertical-align: middle;\n",
              "    }\n",
              "\n",
              "    .dataframe tbody tr th {\n",
              "        vertical-align: top;\n",
              "    }\n",
              "\n",
              "    .dataframe thead th {\n",
              "        text-align: right;\n",
              "    }\n",
              "</style>\n",
              "<table border=\"1\" class=\"dataframe\">\n",
              "  <thead>\n",
              "    <tr style=\"text-align: right;\">\n",
              "      <th></th>\n",
              "      <th>accuracy</th>\n",
              "      <th>precision</th>\n",
              "      <th>recall</th>\n",
              "      <th>f1_score</th>\n",
              "    </tr>\n",
              "    <tr>\n",
              "      <th>classifier</th>\n",
              "      <th></th>\n",
              "      <th></th>\n",
              "      <th></th>\n",
              "      <th></th>\n",
              "    </tr>\n",
              "  </thead>\n",
              "  <tbody>\n",
              "    <tr>\n",
              "      <th>Logistic Regression</th>\n",
              "      <td>0.907895</td>\n",
              "      <td>0.935484</td>\n",
              "      <td>0.852941</td>\n",
              "      <td>0.892308</td>\n",
              "    </tr>\n",
              "    <tr>\n",
              "      <th>Random Forest Classifier</th>\n",
              "      <td>0.881579</td>\n",
              "      <td>0.878788</td>\n",
              "      <td>0.852941</td>\n",
              "      <td>0.865672</td>\n",
              "    </tr>\n",
              "  </tbody>\n",
              "</table>\n",
              "</div>"
            ],
            "text/plain": [
              "                          accuracy  precision    recall  f1_score\n",
              "classifier                                                       \n",
              "Logistic Regression       0.907895   0.935484  0.852941  0.892308\n",
              "Random Forest Classifier  0.881579   0.878788  0.852941  0.865672"
            ]
          },
          "metadata": {
            "tags": []
          },
          "execution_count": 16
        }
      ]
    },
    {
      "cell_type": "markdown",
      "metadata": {
        "id": "tfeSytG3pngP",
        "colab_type": "text"
      },
      "source": [
        "Feature Importance from Random Forest Classifier"
      ]
    },
    {
      "cell_type": "code",
      "metadata": {
        "id": "kU3Wsh1XnViX",
        "colab_type": "code",
        "colab": {
          "base_uri": "https://localhost:8080/",
          "height": 289
        },
        "outputId": "4ef3fc39-d25a-4435-e826-0e1bc3d4f6f4"
      },
      "source": [
        "clf=rfc\n",
        "m=clf.fit(trainX, trainY)\n",
        "ft_imp=m.feature_importances_\n",
        "ftdf=pd.DataFrame([trainCols,ft_imp]).T\n",
        "ftdf.columns=['features','importance']\n",
        "ftdf=ftdf.sort_values(by='importance',ascending=False)\n",
        "sorted_features=ftdf['features'].values\n",
        "sorted_features"
      ],
      "execution_count": 25,
      "outputs": [
        {
          "output_type": "execute_result",
          "data": {
            "text/plain": [
              "array(['Inn 2 Team 1 wickets taken_catches_runout',\n",
              "       'Inn2 Team 1 wickets taken_ bowled _lbw_caught by keeper_stumping',\n",
              "       'Inn 1 Team 1 Total 6s', 'Inn 1 Team 1 Total 4s',\n",
              "       'Inn 2 Team 2 Total 4s', 'Inn 2 Team 2 Max Strike Rate_ALLBatsmen',\n",
              "       'Inn 1 Team 1 Max Strike Rate_ALLBatsmen',\n",
              "       'Inn 1 Team 1 NOP R>25,SR>125', 'Inn 2 Team 2 Total 6s',\n",
              "       'Inn 2 Team 1 Extras conceded in_wides_No Balls',\n",
              "       'Inn1 Team 2 wickets taken_ bowled _lbw_caught by keeper_stumping',\n",
              "       'AvgHumidity', 'Inn 2 Team 2 NOP R<25, SR>125',\n",
              "       'Inn 1 Team 1 NOP R<25, SR>125',\n",
              "       'Inn 1 Team 2 wickets taken_catches_runout', 'Team1MatchNum',\n",
              "       'Team2MatchNum', 'Inn 2 Team 2 NOP R>25,SR>125',\n",
              "       'Inn 1 Team 2 Extras conceded in_wides_No Balls', 'AvgWindSpeed',\n",
              "       'HourOfGame', 'Inn 1 Team 2 NoP Spinners',\n",
              "       'Inn 2 Team 1 NoP Spinners', 'Inn 1 Team 2 NoP fast bowlers',\n",
              "       'Inn 2 Team 1 NoP fast bowlers'], dtype=object)"
            ]
          },
          "metadata": {
            "tags": []
          },
          "execution_count": 25
        }
      ]
    },
    {
      "cell_type": "markdown",
      "metadata": {
        "id": "pkgdU0ePKKb6",
        "colab_type": "text"
      },
      "source": [
        "Let's take selected chunks of sorted features and check the logistic regression model"
      ]
    },
    {
      "cell_type": "code",
      "metadata": {
        "id": "KsaJ71RMJNUV",
        "colab_type": "code",
        "colab": {
          "base_uri": "https://localhost:8080/",
          "height": 556
        },
        "outputId": "c2658860-2d85-4659-b16d-9fd3ba823efe"
      },
      "source": [
        "clfnames=['Logistic Regression', 'Random Forest Classifier']\n",
        "rep=[]\n",
        "for clf, name in zip([lr, rfc], clfnames):\n",
        "  for i in [5, 10, 15, 20, 25]:\n",
        "    sub_features=sorted_features[:i]\n",
        "    trainX, trainY, trainCols = prepare_data(traindf, sub_features, dependant)\n",
        "    testX, y_true, testCols = prepare_data(testdf, sub_features, dependant)\n",
        "    m=clf.fit(trainX, trainY)\n",
        "    y_pred=clf.predict(testX)\n",
        "    accuracy=accuracy_score(y_true, y_pred)\n",
        "    precision=precision_score(y_true, y_pred)\n",
        "    recall=recall_score(y_true, y_pred)\n",
        "    f1=f1_score(y_true, y_pred)\n",
        "    rep.append([name,i,accuracy,precision,recall,f1])\n",
        "\n",
        "resdf=pd.DataFrame(rep, columns=['classifier','subset', 'accuracy', 'precision', 'recall', 'f1_score'])\n",
        "print(resdf.head(20))\n",
        "g = sns.catplot(x=\"subset\", y=\"accuracy\", hue=\"classifier\", data=resdf, kind=\"bar\")"
      ],
      "execution_count": 33,
      "outputs": [
        {
          "output_type": "stream",
          "text": [
            "                 classifier  subset  accuracy  precision    recall  f1_score\n",
            "0       Logistic Regression       5  0.881579   0.903226  0.823529  0.861538\n",
            "1       Logistic Regression      10  0.921053   0.966667  0.852941  0.906250\n",
            "2       Logistic Regression      15  0.947368   0.968750  0.911765  0.939394\n",
            "3       Logistic Regression      20  0.907895   0.935484  0.852941  0.892308\n",
            "4       Logistic Regression      25  0.907895   0.935484  0.852941  0.892308\n",
            "5  Random Forest Classifier       5  0.894737   0.906250  0.852941  0.878788\n",
            "6  Random Forest Classifier      10  0.921053   0.911765  0.911765  0.911765\n",
            "7  Random Forest Classifier      15  0.907895   0.909091  0.882353  0.895522\n",
            "8  Random Forest Classifier      20  0.921053   0.937500  0.882353  0.909091\n",
            "9  Random Forest Classifier      25  0.894737   0.906250  0.852941  0.878788\n"
          ],
          "name": "stdout"
        },
        {
          "output_type": "display_data",
          "data": {
            "image/png": "[encoded data removed]",
            "text/plain": [
              "<Figure size 520.75x360 with 1 Axes>"
            ]
          },
          "metadata": {
            "tags": []
          }
        }
      ]
    },
    {
      "cell_type": "markdown",
      "metadata": {
        "id": "M5BJ6iMlMBfq",
        "colab_type": "text"
      },
      "source": [
        "Logistic Regression with top 15 features performed the best (test accuracy = 94.7%)"
      ]
    },
    {
      "cell_type": "code",
      "metadata": {
        "id": "wC03zCjFQdCH",
        "colab_type": "code",
        "colab": {
          "base_uri": "https://localhost:8080/",
          "height": 354
        },
        "outputId": "098d31ac-9d25-494b-de86-d639bbaf88bb"
      },
      "source": [
        "fm=LogisticRegression(solver='lbfgs', max_iter=2000)\n",
        "sub_features=sorted_features[:15]\n",
        "trainX, trainY, trainCols = prepare_data(traindf, sub_features, dependant)\n",
        "testX, y_true, testCols = prepare_data(testdf, sub_features, dependant)\n",
        "m=fm.fit(trainX, trainY)\n",
        "y_pred=fm.predict(testX)\n",
        "accuracy=accuracy_score(y_true, y_pred)\n",
        "precision=precision_score(y_true, y_pred)\n",
        "recall=recall_score(y_true, y_pred)\n",
        "f1=f1_score(y_true, y_pred)\n",
        "cm=confusion_matrix(y_true, y_pred)\n",
        "cmdf=pd.DataFrame(cm,index=[\"true 0\", \"true 1\"], columns=[\"pred 0\", \"pred 1\"])\n",
        "print(\"accuracy=\", accuracy, \"precision=\", precision,\"recall=\",recall,\"f1_score=\", f1)\n",
        "print(cmdf)\n",
        "sns.heatmap(cmdf,annot=True,annot_kws={\"size\": 16})"
      ],
      "execution_count": 52,
      "outputs": [
        {
          "output_type": "stream",
          "text": [
            "accuracy= 0.9473684210526315 precision= 0.96875 recall= 0.9117647058823529 f1_score= 0.9393939393939394\n",
            "        pred 0  pred 1\n",
            "true 0      41       1\n",
            "true 1       3      31\n"
          ],
          "name": "stdout"
        },
        {
          "output_type": "execute_result",
          "data": {
            "text/plain": [
              "<matplotlib.axes._subplots.AxesSubplot at 0x7fbd6705eda0>"
            ]
          },
          "metadata": {
            "tags": []
          },
          "execution_count": 52
        },
        {
          "output_type": "display_data",
          "data": {
            "image/png": "[encoded data removed]",
            "text/plain": [
              "<Figure size 432x288 with 2 Axes>"
            ]
          },
          "metadata": {
            "tags": []
          }
        }
      ]
    },
    {
      "cell_type": "markdown",
      "metadata": {
        "id": "-v-hCDam93du",
        "colab_type": "text"
      },
      "source": [
        "Additional features that could be added:\n",
        "\n",
        "\n",
        "1.   number of changes from last match (for each year). Team that change a lot may be less prone to winning\n",
        "2.  Past League performance\n",
        "\n"
      ]
    }
  ]
}