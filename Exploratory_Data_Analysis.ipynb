{
  "nbformat": 4,
  "nbformat_minor": 0,
  "metadata": {
    "colab": {
      "name": "Exploratory_Data_Analysis.ipynb",
      "version": "0.3.2",
      "provenance": [],
      "collapsed_sections": [],
      "include_colab_link": true
    },
    "kernelspec": {
      "name": "python3",
      "display_name": "Python 3"
    }
  },
  "cells": [
    {
      "cell_type": "markdown",
      "metadata": {
        "id": "view-in-github",
        "colab_type": "text"
      },
      "source": [
        "<a href=\"https://colab.research.google.com/github/ashekhar20/league_predict/blob/master/Exploratory_Data_Analysis.ipynb\" target=\"_parent\"><img src=\"https://colab.research.google.com/assets/colab-badge.svg\" alt=\"Open In Colab\"/></a>"
      ]
    },
    {
      "cell_type": "code",
      "metadata": {
        "id": "TZnOxxoGokin",
        "colab_type": "code",
        "colab": {}
      },
      "source": [
        "import numpy as np\n",
        "import pandas as pd\n",
        "import matplotlib.pyplot as plt\n",
        "import seaborn as sns"
      ],
      "execution_count": 0,
      "outputs": []
    },
    {
      "cell_type": "code",
      "metadata": {
        "id": "NHRZ_1Rzo2A4",
        "colab_type": "code",
        "colab": {}
      },
      "source": [
        "base_url = 'https://raw.githubusercontent.com/ashekhar20/league_predict/master/data/'\n",
        "data_dict=base_url+'data_dictionary.xlsx'\n",
        "train_file=base_url+'train.csv'\n",
        "test_file=base_url+'test.csv'"
      ],
      "execution_count": 0,
      "outputs": []
    },
    {
      "cell_type": "code",
      "metadata": {
        "id": "itEpqpJW4jjf",
        "colab_type": "code",
        "outputId": "ffe6212e-d26b-49b2-e58b-c2bc3707df26",
        "colab": {
          "base_uri": "https://localhost:8080/",
          "height": 34
        }
      },
      "source": [
        "df1 = pd.read_csv(train_file)\n",
        "df2 = pd.read_csv(test_file)\n",
        "df1.shape, df2.shape"
      ],
      "execution_count": 0,
      "outputs": [
        {
          "output_type": "execute_result",
          "data": {
            "text/plain": [
              "((252, 30), (76, 30))"
            ]
          },
          "metadata": {
            "tags": []
          },
          "execution_count": 50
        }
      ]
    },
    {
      "cell_type": "code",
      "metadata": {
        "id": "aTT-rKu_4rxZ",
        "colab_type": "code",
        "outputId": "666654ce-b73d-4fb1-ebbe-12d01f4ae9f8",
        "colab": {
          "base_uri": "https://localhost:8080/",
          "height": 340
        }
      },
      "source": [
        "cols=df1.columns\n",
        "print(len(cols))\n",
        "cols"
      ],
      "execution_count": 0,
      "outputs": [
        {
          "output_type": "stream",
          "text": [
            "30\n"
          ],
          "name": "stdout"
        },
        {
          "output_type": "execute_result",
          "data": {
            "text/plain": [
              "Index(['Game ID', 'Team 1', 'Team 2', 'City', 'DayOfWeek', 'DateOfGame',\n",
              "       'TimeOfGame', 'AvgWindSpeed', 'AvgHumidity',\n",
              "       'Inn 1 Team 1 NOP R>25,SR>125', 'Inn 1 Team 1 NOP R<25, SR>125',\n",
              "       'Inn 1 Team 1 Total 4s', 'Inn 1 Team 1 Total 6s',\n",
              "       'Inn 1 Team 1 Max Strike Rate_ALLBatsmen',\n",
              "       'Inn 1 Team 2 NoP fast bowlers', 'Inn 1 Team 2 NoP Spinners',\n",
              "       'Inn 1 Team 2 wickets taken_catches_runout',\n",
              "       'Inn1 Team 2 wickets taken_ bowled _lbw_caught by keeper_stumping',\n",
              "       'Inn 1 Team 2 Extras conceded in_wides_No Balls',\n",
              "       'Inn 2 Team 2 NOP R>25,SR>125', 'Inn 2 Team 2 NOP R<25, SR>125',\n",
              "       'Inn 2 Team 2 Total 4s', 'Inn 2 Team 2 Total 6s',\n",
              "       'Inn 2 Team 2 Max Strike Rate_ALLBatsmen',\n",
              "       'Inn 2 Team 1 NoP fast bowlers', 'Inn 2 Team 1 NoP Spinners',\n",
              "       'Inn 2 Team 1 wickets taken_catches_runout',\n",
              "       'Inn2 Team 1 wickets taken_ bowled _lbw_caught by keeper_stumping',\n",
              "       'Inn 2 Team 1 Extras conceded in_wides_No Balls',\n",
              "       'Winner (team 1=1, team 2=0)'],\n",
              "      dtype='object')"
            ]
          },
          "metadata": {
            "tags": []
          },
          "execution_count": 51
        }
      ]
    },
    {
      "cell_type": "markdown",
      "metadata": {
        "id": "bitU93g9_WRG",
        "colab_type": "text"
      },
      "source": [
        "Check for any column mismatch in train and test data"
      ]
    },
    {
      "cell_type": "code",
      "metadata": {
        "id": "45mEKI2I8SHq",
        "colab_type": "code",
        "colab": {}
      },
      "source": [
        "def preprocess_data(mydf):\n",
        "  # Extract Year and Hour of the match\n",
        "  mydf['DateTimeOfGame']=pd.to_datetime(mydf['DateOfGame']+'T'+mydf['TimeOfGame'])\n",
        "  mydf['YearOfGame']=mydf['DateTimeOfGame'].dt.year\n",
        "  mydf['HourOfGame']=mydf['DateTimeOfGame'].dt.hour\n",
        "  \n",
        "  # Is Home team batting first?\n",
        "  mydf['isTeam1Home'] = mydf.apply(lambda x: x['City'] in x['Team 1'], axis=1)\n",
        "  \n",
        "  # Obtain match number for each team. \n",
        "  tmp1=mydf[['Team 1','YearOfGame','DateTimeOfGame']]\n",
        "  tmp1.rename(columns={\"Team 1\": \"Team\"}, inplace=True)\n",
        "  tmp2=mydf[['Team 2','YearOfGame','DateTimeOfGame']]\n",
        "  tmp2.rename(columns={\"Team 2\": \"Team\"}, inplace=True)\n",
        "  tmp=pd.concat([tmp1,tmp2])\n",
        "  tt=tmp.groupby(['Team','YearOfGame'])[\"DateTimeOfGame\"].rank(\"dense\", ascending=True)\n",
        "  tmp['TeamMatchNum']=tt.values.astype(int)\n",
        "  tmp2=tmp.sort_values(by=['Team','DateTimeOfGame'])\n",
        "  tmp2['match_key']=tmp2['Team']+tmp2['DateTimeOfGame'].astype(str)\n",
        "  tmp2=tmp2.set_index('match_key')\n",
        "  matchnum_dict=tmp2[['TeamMatchNum']].to_dict()\n",
        "  # We'll update the main dataframe with TeamMatchNum using match_key (which is unique)\n",
        "  # We'll create two new columns: Team1MatchNum and Team2MatchNum.\n",
        "  mydf['match_key']=mydf['Team 1']+mydf['DateTimeOfGame'].astype(str)\n",
        "  mydf['Team1MatchNum']=mydf['match_key'].map(matchnum_dict['TeamMatchNum'])\n",
        "  mydf['match_key']=mydf['Team 2']+mydf['DateTimeOfGame'].astype(str)\n",
        "  mydf['Team2MatchNum']=mydf['match_key'].map(matchnum_dict['TeamMatchNum'])\n",
        "  \n",
        "  return mydf\n",
        "  \n",
        "def prepare_data(mydf, feature_columns, dependant):\n",
        "  tmpdf=mydf[feature_columns]\n",
        "  tdf=pd.get_dummies(tmpdf)\n",
        "  X=tdf.to_numpy()\n",
        "  y=mydf[dependant].values\n",
        "  \n",
        "  return X,y\n"
      ],
      "execution_count": 0,
      "outputs": []
    },
    {
      "cell_type": "code",
      "metadata": {
        "id": "cW9LUcf8k0Vv",
        "colab_type": "code",
        "outputId": "a2d8f164-06be-4b36-8368-133d81c1100c",
        "colab": {
          "base_uri": "https://localhost:8080/",
          "height": 119
        }
      },
      "source": [
        "traindf=preprocess_data(df1)\n",
        "print(traindf.shape)"
      ],
      "execution_count": 0,
      "outputs": [
        {
          "output_type": "stream",
          "text": [
            "(252, 37)\n"
          ],
          "name": "stdout"
        },
        {
          "output_type": "stream",
          "text": [
            "/usr/local/lib/python3.6/dist-packages/pandas/core/frame.py:4025: SettingWithCopyWarning: \n",
            "A value is trying to be set on a copy of a slice from a DataFrame\n",
            "\n",
            "See the caveats in the documentation: http://pandas.pydata.org/pandas-docs/stable/indexing.html#indexing-view-versus-copy\n",
            "  return super(DataFrame, self).rename(**kwargs)\n"
          ],
          "name": "stderr"
        }
      ]
    },
    {
      "cell_type": "code",
      "metadata": {
        "id": "g9ObXuRnk_Ar",
        "colab_type": "code",
        "outputId": "8705fbce-e5c6-4827-d52e-9430c9a0ac2b",
        "colab": {
          "base_uri": "https://localhost:8080/",
          "height": 564
        }
      },
      "source": [
        "traindf.head()"
      ],
      "execution_count": 0,
      "outputs": [
        {
          "output_type": "execute_result",
          "data": {
            "text/html": [
              "<div>\n",
              "<style scoped>\n",
              "    .dataframe tbody tr th:only-of-type {\n",
              "        vertical-align: middle;\n",
              "    }\n",
              "\n",
              "    .dataframe tbody tr th {\n",
              "        vertical-align: top;\n",
              "    }\n",
              "\n",
              "    .dataframe thead th {\n",
              "        text-align: right;\n",
              "    }\n",
              "</style>\n",
              "<table border=\"1\" class=\"dataframe\">\n",
              "  <thead>\n",
              "    <tr style=\"text-align: right;\">\n",
              "      <th></th>\n",
              "      <th>Game ID</th>\n",
              "      <th>Team 1</th>\n",
              "      <th>Team 2</th>\n",
              "      <th>City</th>\n",
              "      <th>DayOfWeek</th>\n",
              "      <th>DateOfGame</th>\n",
              "      <th>TimeOfGame</th>\n",
              "      <th>AvgWindSpeed</th>\n",
              "      <th>AvgHumidity</th>\n",
              "      <th>Inn 1 Team 1 NOP R&gt;25,SR&gt;125</th>\n",
              "      <th>Inn 1 Team 1 NOP R&lt;25, SR&gt;125</th>\n",
              "      <th>Inn 1 Team 1 Total 4s</th>\n",
              "      <th>Inn 1 Team 1 Total 6s</th>\n",
              "      <th>Inn 1 Team 1 Max Strike Rate_ALLBatsmen</th>\n",
              "      <th>Inn 1 Team 2 NoP fast bowlers</th>\n",
              "      <th>Inn 1 Team 2 NoP Spinners</th>\n",
              "      <th>Inn 1 Team 2 wickets taken_catches_runout</th>\n",
              "      <th>Inn1 Team 2 wickets taken_ bowled _lbw_caught by keeper_stumping</th>\n",
              "      <th>Inn 1 Team 2 Extras conceded in_wides_No Balls</th>\n",
              "      <th>Inn 2 Team 2 NOP R&gt;25,SR&gt;125</th>\n",
              "      <th>Inn 2 Team 2 NOP R&lt;25, SR&gt;125</th>\n",
              "      <th>Inn 2 Team 2 Total 4s</th>\n",
              "      <th>Inn 2 Team 2 Total 6s</th>\n",
              "      <th>Inn 2 Team 2 Max Strike Rate_ALLBatsmen</th>\n",
              "      <th>Inn 2 Team 1 NoP fast bowlers</th>\n",
              "      <th>Inn 2 Team 1 NoP Spinners</th>\n",
              "      <th>Inn 2 Team 1 wickets taken_catches_runout</th>\n",
              "      <th>Inn2 Team 1 wickets taken_ bowled _lbw_caught by keeper_stumping</th>\n",
              "      <th>Inn 2 Team 1 Extras conceded in_wides_No Balls</th>\n",
              "      <th>Winner (team 1=1, team 2=0)</th>\n",
              "      <th>DateTimeOfGame</th>\n",
              "      <th>YearOfGame</th>\n",
              "      <th>HourOfGame</th>\n",
              "      <th>isTeam1Home</th>\n",
              "      <th>match_key</th>\n",
              "      <th>Team1MatchNum</th>\n",
              "      <th>Team2MatchNum</th>\n",
              "    </tr>\n",
              "  </thead>\n",
              "  <tbody>\n",
              "    <tr>\n",
              "      <th>0</th>\n",
              "      <td>1</td>\n",
              "      <td>Koramangala Traffic Jammers</td>\n",
              "      <td>Whitefield Water Loggers</td>\n",
              "      <td>Whitefield</td>\n",
              "      <td>1</td>\n",
              "      <td>01-01-2012</td>\n",
              "      <td>20:00:00</td>\n",
              "      <td>6</td>\n",
              "      <td>0.49</td>\n",
              "      <td>1</td>\n",
              "      <td>1</td>\n",
              "      <td>15</td>\n",
              "      <td>14</td>\n",
              "      <td>216.43</td>\n",
              "      <td>4</td>\n",
              "      <td>2</td>\n",
              "      <td>3</td>\n",
              "      <td>0</td>\n",
              "      <td>9</td>\n",
              "      <td>0</td>\n",
              "      <td>0</td>\n",
              "      <td>3</td>\n",
              "      <td>3</td>\n",
              "      <td>120.00</td>\n",
              "      <td>5</td>\n",
              "      <td>0</td>\n",
              "      <td>6</td>\n",
              "      <td>4</td>\n",
              "      <td>11</td>\n",
              "      <td>1</td>\n",
              "      <td>2012-01-01 20:00:00</td>\n",
              "      <td>2012</td>\n",
              "      <td>20</td>\n",
              "      <td>False</td>\n",
              "      <td>Whitefield Water Loggers 2012-01-01 20:00:00</td>\n",
              "      <td>1</td>\n",
              "      <td>1</td>\n",
              "    </tr>\n",
              "    <tr>\n",
              "      <th>1</th>\n",
              "      <td>2</td>\n",
              "      <td>Electronic City Power Savers</td>\n",
              "      <td>Silkboard Slow Movers</td>\n",
              "      <td>Silkboard</td>\n",
              "      <td>2</td>\n",
              "      <td>01-02-2012</td>\n",
              "      <td>17:00:00</td>\n",
              "      <td>7</td>\n",
              "      <td>0.44</td>\n",
              "      <td>3</td>\n",
              "      <td>2</td>\n",
              "      <td>20</td>\n",
              "      <td>16</td>\n",
              "      <td>246.15</td>\n",
              "      <td>5</td>\n",
              "      <td>2</td>\n",
              "      <td>1</td>\n",
              "      <td>4</td>\n",
              "      <td>4</td>\n",
              "      <td>2</td>\n",
              "      <td>2</td>\n",
              "      <td>18</td>\n",
              "      <td>9</td>\n",
              "      <td>215.15</td>\n",
              "      <td>4</td>\n",
              "      <td>1</td>\n",
              "      <td>4</td>\n",
              "      <td>0</td>\n",
              "      <td>5</td>\n",
              "      <td>1</td>\n",
              "      <td>2012-01-02 17:00:00</td>\n",
              "      <td>2012</td>\n",
              "      <td>17</td>\n",
              "      <td>False</td>\n",
              "      <td>Silkboard Slow Movers2012-01-02 17:00:00</td>\n",
              "      <td>1</td>\n",
              "      <td>1</td>\n",
              "    </tr>\n",
              "    <tr>\n",
              "      <th>2</th>\n",
              "      <td>3</td>\n",
              "      <td>Indranagar Pub Watchers</td>\n",
              "      <td>Sarjapur Water Tankers</td>\n",
              "      <td>Sarjapur</td>\n",
              "      <td>3</td>\n",
              "      <td>01-03-2012</td>\n",
              "      <td>20:30:00</td>\n",
              "      <td>11</td>\n",
              "      <td>0.23</td>\n",
              "      <td>2</td>\n",
              "      <td>2</td>\n",
              "      <td>13</td>\n",
              "      <td>3</td>\n",
              "      <td>200.00</td>\n",
              "      <td>4</td>\n",
              "      <td>1</td>\n",
              "      <td>4</td>\n",
              "      <td>4</td>\n",
              "      <td>3</td>\n",
              "      <td>2</td>\n",
              "      <td>1</td>\n",
              "      <td>18</td>\n",
              "      <td>1</td>\n",
              "      <td>300.00</td>\n",
              "      <td>3</td>\n",
              "      <td>3</td>\n",
              "      <td>0</td>\n",
              "      <td>1</td>\n",
              "      <td>10</td>\n",
              "      <td>0</td>\n",
              "      <td>2012-01-03 20:30:00</td>\n",
              "      <td>2012</td>\n",
              "      <td>20</td>\n",
              "      <td>False</td>\n",
              "      <td>Sarjapur Water Tankers2012-01-03 20:30:00</td>\n",
              "      <td>1</td>\n",
              "      <td>1</td>\n",
              "    </tr>\n",
              "    <tr>\n",
              "      <th>3</th>\n",
              "      <td>4</td>\n",
              "      <td>Bellandur Froth Fighters</td>\n",
              "      <td>Koramangala Traffic Jammers</td>\n",
              "      <td>Koramangala</td>\n",
              "      <td>4</td>\n",
              "      <td>01-04-2012</td>\n",
              "      <td>16:00:00</td>\n",
              "      <td>6</td>\n",
              "      <td>0.61</td>\n",
              "      <td>0</td>\n",
              "      <td>2</td>\n",
              "      <td>6</td>\n",
              "      <td>6</td>\n",
              "      <td>140.00</td>\n",
              "      <td>3</td>\n",
              "      <td>3</td>\n",
              "      <td>7</td>\n",
              "      <td>3</td>\n",
              "      <td>6</td>\n",
              "      <td>0</td>\n",
              "      <td>0</td>\n",
              "      <td>5</td>\n",
              "      <td>4</td>\n",
              "      <td>100.00</td>\n",
              "      <td>4</td>\n",
              "      <td>2</td>\n",
              "      <td>3</td>\n",
              "      <td>2</td>\n",
              "      <td>16</td>\n",
              "      <td>0</td>\n",
              "      <td>2012-01-04 16:00:00</td>\n",
              "      <td>2012</td>\n",
              "      <td>16</td>\n",
              "      <td>False</td>\n",
              "      <td>Koramangala Traffic Jammers2012-01-04 16:00:00</td>\n",
              "      <td>1</td>\n",
              "      <td>2</td>\n",
              "    </tr>\n",
              "    <tr>\n",
              "      <th>4</th>\n",
              "      <td>5</td>\n",
              "      <td>Marathalli Chokers</td>\n",
              "      <td>Whitefield Water Loggers</td>\n",
              "      <td>Marathalli</td>\n",
              "      <td>5</td>\n",
              "      <td>01-05-2012</td>\n",
              "      <td>20:00:00</td>\n",
              "      <td>6</td>\n",
              "      <td>0.56</td>\n",
              "      <td>3</td>\n",
              "      <td>1</td>\n",
              "      <td>18</td>\n",
              "      <td>5</td>\n",
              "      <td>233.33</td>\n",
              "      <td>5</td>\n",
              "      <td>1</td>\n",
              "      <td>4</td>\n",
              "      <td>2</td>\n",
              "      <td>3</td>\n",
              "      <td>1</td>\n",
              "      <td>3</td>\n",
              "      <td>15</td>\n",
              "      <td>6</td>\n",
              "      <td>205.26</td>\n",
              "      <td>4</td>\n",
              "      <td>2</td>\n",
              "      <td>4</td>\n",
              "      <td>1</td>\n",
              "      <td>5</td>\n",
              "      <td>0</td>\n",
              "      <td>2012-01-05 20:00:00</td>\n",
              "      <td>2012</td>\n",
              "      <td>20</td>\n",
              "      <td>True</td>\n",
              "      <td>Whitefield Water Loggers 2012-01-05 20:00:00</td>\n",
              "      <td>1</td>\n",
              "      <td>2</td>\n",
              "    </tr>\n",
              "  </tbody>\n",
              "</table>\n",
              "</div>"
            ],
            "text/plain": [
              "   Game ID                        Team 1  ... Team1MatchNum Team2MatchNum\n",
              "0        1   Koramangala Traffic Jammers  ...             1             1\n",
              "1        2  Electronic City Power Savers  ...             1             1\n",
              "2        3       Indranagar Pub Watchers  ...             1             1\n",
              "3        4      Bellandur Froth Fighters  ...             1             2\n",
              "4        5           Marathalli Chokers   ...             1             2\n",
              "\n",
              "[5 rows x 37 columns]"
            ]
          },
          "metadata": {
            "tags": []
          },
          "execution_count": 56
        }
      ]
    },
    {
      "cell_type": "code",
      "metadata": {
        "id": "0mYBqPYKqHVy",
        "colab_type": "code",
        "colab": {}
      },
      "source": [
        "dependant='Winner (team 1=1, team 2=0)'"
      ],
      "execution_count": 0,
      "outputs": []
    },
    {
      "cell_type": "code",
      "metadata": {
        "id": "pmRSbQ3QlI72",
        "colab_type": "code",
        "outputId": "909979d5-c839-4c65-b817-18c8b2a6e009",
        "colab": {
          "base_uri": "https://localhost:8080/",
          "height": 368
        }
      },
      "source": [
        "tt=traindf.groupby(['isTeam1Home',dependant])['DateTimeOfGame'].count()\n",
        "td=pd.DataFrame(tt).reset_index()\n",
        "print(td.head())\n",
        "ax = sns.barplot(x=\"isTeam1Home\", y=\"DateTimeOfGame\", hue=dependant, data=td)"
      ],
      "execution_count": 0,
      "outputs": [
        {
          "output_type": "stream",
          "text": [
            "   isTeam1Home  Winner (team 1=1, team 2=0)  DateTimeOfGame\n",
            "0        False                            0              94\n",
            "1        False                            1              62\n",
            "2         True                            0              47\n",
            "3         True                            1              49\n"
          ],
          "name": "stdout"
        },
        {
          "output_type": "display_data",
          "data": {
            "image/png": "[encoded data removed]",
            "text/plain": [
              "<Figure size 432x288 with 1 Axes>"
            ]
          },
          "metadata": {
            "tags": []
          }
        }
      ]
    },
    {
      "cell_type": "code",
      "metadata": {
        "id": "0lgtnbylp_By",
        "colab_type": "code",
        "outputId": "a3b092ab-1dfd-40fe-d434-9f8cad6fc51e",
        "colab": {
          "base_uri": "https://localhost:8080/",
          "height": 334
        }
      },
      "source": [
        "tt=traindf.groupby([dependant])['DateTimeOfGame'].count()\n",
        "td=pd.DataFrame(tt).reset_index()\n",
        "print(td.head())\n",
        "ax = sns.barplot(x=dependant, y=\"DateTimeOfGame\", hue=dependant, data=td)"
      ],
      "execution_count": 0,
      "outputs": [
        {
          "output_type": "stream",
          "text": [
            "   Winner (team 1=1, team 2=0)  DateTimeOfGame\n",
            "0                            0             141\n",
            "1                            1             111\n"
          ],
          "name": "stdout"
        },
        {
          "output_type": "display_data",
          "data": {
            "image/png": "[encoded data removed]",
            "text/plain": [
              "<Figure size 432x288 with 1 Axes>"
            ]
          },
          "metadata": {
            "tags": []
          }
        }
      ]
    },
    {
      "cell_type": "markdown",
      "metadata": {
        "id": "sOrfQ9R0kbtE",
        "colab_type": "text"
      },
      "source": [
        "  Now our dataframe is ready for training. We'll identify the columns to be selected and take a subset of the dataframe. We'll return X matrix and y vector"
      ]
    },
    {
      "cell_type": "code",
      "metadata": {
        "id": "5MHUbxfH98Gu",
        "colab_type": "code",
        "colab": {}
      },
      "source": [
        ""
      ],
      "execution_count": 0,
      "outputs": []
    }
  ]
}