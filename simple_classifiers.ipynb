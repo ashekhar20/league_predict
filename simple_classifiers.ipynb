{
  "nbformat": 4,
  "nbformat_minor": 0,
  "metadata": {
    "colab": {
      "name": "simple_classifiers.ipynb",
      "version": "0.3.2",
      "provenance": [],
      "collapsed_sections": [],
      "include_colab_link": true
    },
    "kernelspec": {
      "name": "python3",
      "display_name": "Python 3"
    }
  },
  "cells": [
    {
      "cell_type": "markdown",
      "metadata": {
        "id": "view-in-github",
        "colab_type": "text"
      },
      "source": [
        "<a href=\"https://colab.research.google.com/github/ashekhar20/league_predict/blob/master/simple_classifiers.ipynb\" target=\"_parent\"><img src=\"https://colab.research.google.com/assets/colab-badge.svg\" alt=\"Open In Colab\"/></a>"
      ]
    },
    {
      "cell_type": "code",
      "metadata": {
        "id": "TZnOxxoGokin",
        "colab_type": "code",
        "colab": {}
      },
      "source": [
        "import numpy as np\n",
        "import pandas as pd\n",
        "import matplotlib.pyplot as plt\n",
        "import seaborn as sns"
      ],
      "execution_count": 0,
      "outputs": []
    },
    {
      "cell_type": "code",
      "metadata": {
        "id": "NHRZ_1Rzo2A4",
        "colab_type": "code",
        "colab": {}
      },
      "source": [
        "base_url = 'https://raw.githubusercontent.com/ashekhar20/league_predict/master/data/'\n",
        "data_dict=base_url+'data_dictionary.xlsx'\n",
        "train_file=base_url+'train.csv'\n",
        "test_file=base_url+'test.csv'"
      ],
      "execution_count": 0,
      "outputs": []
    },
    {
      "cell_type": "code",
      "metadata": {
        "id": "itEpqpJW4jjf",
        "colab_type": "code",
        "outputId": "c1d4fb61-3465-4330-d7c6-26bc092a4d68",
        "colab": {
          "base_uri": "https://localhost:8080/",
          "height": 34
        }
      },
      "source": [
        "df1 = pd.read_csv(train_file)\n",
        "df2 = pd.read_csv(test_file)\n",
        "df1.shape, df2.shape"
      ],
      "execution_count": 4,
      "outputs": [
        {
          "output_type": "execute_result",
          "data": {
            "text/plain": [
              "((252, 30), (76, 30))"
            ]
          },
          "metadata": {
            "tags": []
          },
          "execution_count": 4
        }
      ]
    },
    {
      "cell_type": "code",
      "metadata": {
        "id": "aTT-rKu_4rxZ",
        "colab_type": "code",
        "outputId": "9e9caba9-b424-4ebd-cb81-e2b0e5442b3c",
        "colab": {
          "base_uri": "https://localhost:8080/",
          "height": 340
        }
      },
      "source": [
        "cols=df1.columns\n",
        "print(len(cols))\n",
        "cols"
      ],
      "execution_count": 5,
      "outputs": [
        {
          "output_type": "stream",
          "text": [
            "30\n"
          ],
          "name": "stdout"
        },
        {
          "output_type": "execute_result",
          "data": {
            "text/plain": [
              "Index(['Game ID', 'Team 1', 'Team 2', 'City', 'DayOfWeek', 'DateOfGame',\n",
              "       'TimeOfGame', 'AvgWindSpeed', 'AvgHumidity',\n",
              "       'Inn 1 Team 1 NOP R>25,SR>125', 'Inn 1 Team 1 NOP R<25, SR>125',\n",
              "       'Inn 1 Team 1 Total 4s', 'Inn 1 Team 1 Total 6s',\n",
              "       'Inn 1 Team 1 Max Strike Rate_ALLBatsmen',\n",
              "       'Inn 1 Team 2 NoP fast bowlers', 'Inn 1 Team 2 NoP Spinners',\n",
              "       'Inn 1 Team 2 wickets taken_catches_runout',\n",
              "       'Inn1 Team 2 wickets taken_ bowled _lbw_caught by keeper_stumping',\n",
              "       'Inn 1 Team 2 Extras conceded in_wides_No Balls',\n",
              "       'Inn 2 Team 2 NOP R>25,SR>125', 'Inn 2 Team 2 NOP R<25, SR>125',\n",
              "       'Inn 2 Team 2 Total 4s', 'Inn 2 Team 2 Total 6s',\n",
              "       'Inn 2 Team 2 Max Strike Rate_ALLBatsmen',\n",
              "       'Inn 2 Team 1 NoP fast bowlers', 'Inn 2 Team 1 NoP Spinners',\n",
              "       'Inn 2 Team 1 wickets taken_catches_runout',\n",
              "       'Inn2 Team 1 wickets taken_ bowled _lbw_caught by keeper_stumping',\n",
              "       'Inn 2 Team 1 Extras conceded in_wides_No Balls',\n",
              "       'Winner (team 1=1, team 2=0)'],\n",
              "      dtype='object')"
            ]
          },
          "metadata": {
            "tags": []
          },
          "execution_count": 5
        }
      ]
    },
    {
      "cell_type": "markdown",
      "metadata": {
        "id": "bitU93g9_WRG",
        "colab_type": "text"
      },
      "source": [
        "Check for any column mismatch in train and test data"
      ]
    },
    {
      "cell_type": "code",
      "metadata": {
        "id": "Rkdf6Z_L-4wc",
        "colab_type": "code",
        "colab": {
          "base_uri": "https://localhost:8080/",
          "height": 119
        },
        "outputId": "5c871c14-b00a-4860-ea64-f8ad55a6901f"
      },
      "source": [
        "print(\"In Train, not in Test:\")\n",
        "for c in set(df1.columns):\n",
        "  if c not in set(df2.columns):\n",
        "    print(c)\n",
        "  \n",
        "print(\"In Test, not in Train:\")\n",
        "for c in set(df2.columns):\n",
        "  if c not in set(df1.columns):\n",
        "    print(c)"
      ],
      "execution_count": 6,
      "outputs": [
        {
          "output_type": "stream",
          "text": [
            "In Train, not in Test:\n",
            "DayOfWeek\n",
            "City\n",
            "In Test, not in Train:\n",
            "Day\n",
            "CityOfGame\n"
          ],
          "name": "stdout"
        }
      ]
    },
    {
      "cell_type": "code",
      "metadata": {
        "id": "5qSQ15qEAP-h",
        "colab_type": "code",
        "colab": {}
      },
      "source": [
        "# rename two columns in test to match those in train\n",
        "df2.rename(columns={\"Day\": \"DayOfWeek\", \"CityOfGame\":\"City\"}, inplace=True)"
      ],
      "execution_count": 0,
      "outputs": []
    },
    {
      "cell_type": "code",
      "metadata": {
        "id": "45mEKI2I8SHq",
        "colab_type": "code",
        "colab": {}
      },
      "source": [
        "def prepare_data(mydf):\n",
        "  # Extract Year and Hour of the match\n",
        "  mydf['DateTimeOfGame']=pd.to_datetime(mydf['DateOfGame']+'T'+mydf['TimeOfGame'])\n",
        "  mydf['YearOfGame']=mydf['DateTimeOfGame'].dt.year\n",
        "  mydf['HourOfGame']=mydf['DateTimeOfGame'].dt.hour\n",
        "  \n",
        "  # Is Home team batting first?\n",
        "  mydf['isTeam1Home'] = mydf.apply(lambda x: x['City'] in x['Team 1'], axis=1)\n",
        "  \n",
        "  # Obtain match number for each team. \n",
        "  tmp1=mydf[['Team 1','YearOfGame','DateTimeOfGame']]\n",
        "  tmp1.rename(columns={\"Team 1\": \"Team\"}, inplace=True)\n",
        "  tmp2=mydf[['Team 2','YearOfGame','DateTimeOfGame']]\n",
        "  tmp2.rename(columns={\"Team 2\": \"Team\"}, inplace=True)\n",
        "  tmp=pd.concat([tmp1,tmp2])\n",
        "  tt=tmp.groupby(['Team','YearOfGame'])[\"DateTimeOfGame\"].rank(\"dense\", ascending=True)\n",
        "  tmp['TeamMatchNum']=tt.values.astype(int)\n",
        "  tmp2=tmp.sort_values(by=['Team','DateTimeOfGame'])\n",
        "  tmp2['match_key']=tmp2['Team']+tmp2['DateTimeOfGame'].astype(str)\n",
        "  tmp2=tmp2.set_index('match_key')\n",
        "  matchnum_dict=tmp2[['TeamMatchNum']].to_dict()\n",
        "  # We'll update the main dataframe with TeamMatchNum using match_key (which is unique)\n",
        "  # We'll create two new columns: Team1MatchNum and Team2MatchNum.\n",
        "  mydf['match_key']=mydf['Team 1']+mydf['DateTimeOfGame'].astype(str)\n",
        "  mydf['Team1MatchNum']=mydf['match_key'].map(matchnum_dict['TeamMatchNum'])\n",
        "  mydf['match_key']=mydf['Team 2']+mydf['DateTimeOfGame'].astype(str)\n",
        "  mydf['Team2MatchNum']=mydf['match_key'].map(matchnum_dict['TeamMatchNum'])\n",
        "  \n",
        "  # Now our dataframe is ready for training. We'll identify the columns to be selected \n",
        "  # and take a subset of the dataframe. We'll return X matrix and y vector\n",
        "  feature_columns=['YearOfGame','HourOfGame','isTeam1Home',\n",
        "       'Team1MatchNum','Team2MatchNum','AvgWindSpeed', 'AvgHumidity',\n",
        "       'Inn 1 Team 1 NOP R>25,SR>125', 'Inn 1 Team 1 NOP R<25, SR>125',\n",
        "       'Inn 1 Team 1 Total 4s', 'Inn 1 Team 1 Total 6s',\n",
        "       'Inn 1 Team 1 Max Strike Rate_ALLBatsmen',\n",
        "       'Inn 1 Team 2 NoP fast bowlers', 'Inn 1 Team 2 NoP Spinners',\n",
        "       'Inn 1 Team 2 wickets taken_catches_runout',\n",
        "       'Inn1 Team 2 wickets taken_ bowled _lbw_caught by keeper_stumping',\n",
        "       'Inn 1 Team 2 Extras conceded in_wides_No Balls',\n",
        "       'Inn 2 Team 2 NOP R>25,SR>125', 'Inn 2 Team 2 NOP R<25, SR>125',\n",
        "       'Inn 2 Team 2 Total 4s', 'Inn 2 Team 2 Total 6s',\n",
        "       'Inn 2 Team 2 Max Strike Rate_ALLBatsmen',\n",
        "       'Inn 2 Team 1 NoP fast bowlers', 'Inn 2 Team 1 NoP Spinners',\n",
        "       'Inn 2 Team 1 wickets taken_catches_runout',\n",
        "       'Inn2 Team 1 wickets taken_ bowled _lbw_caught by keeper_stumping',\n",
        "       'Inn 2 Team 1 Extras conceded in_wides_No Balls',\n",
        "       ]\n",
        "  dependent='Winner (team 1=1, team 2=0)'\n",
        "  tmpdf=mydf[feature_columns]\n",
        "  tdf=pd.get_dummies(tmpdf)\n",
        "  X=tdf.to_numpy()\n",
        "  y=mydf[dependent].values\n",
        "  \n",
        "  return X,y, tdf.columns\n"
      ],
      "execution_count": 0,
      "outputs": []
    },
    {
      "cell_type": "code",
      "metadata": {
        "id": "vrcKfkN79ikj",
        "colab_type": "code",
        "colab": {
          "base_uri": "https://localhost:8080/",
          "height": 119
        },
        "outputId": "b8a4a01e-0213-4c3e-a9a2-09b6431fd71b"
      },
      "source": [
        "trainX, trainY, trcols = prepare_data(df1)\n",
        "print(trainX.shape, trainY.shape)"
      ],
      "execution_count": 12,
      "outputs": [
        {
          "output_type": "stream",
          "text": [
            "(252, 27) (252,)\n"
          ],
          "name": "stdout"
        },
        {
          "output_type": "stream",
          "text": [
            "/usr/local/lib/python3.6/dist-packages/pandas/core/frame.py:4025: SettingWithCopyWarning: \n",
            "A value is trying to be set on a copy of a slice from a DataFrame\n",
            "\n",
            "See the caveats in the documentation: http://pandas.pydata.org/pandas-docs/stable/indexing.html#indexing-view-versus-copy\n",
            "  return super(DataFrame, self).rename(**kwargs)\n"
          ],
          "name": "stderr"
        }
      ]
    },
    {
      "cell_type": "code",
      "metadata": {
        "id": "YeiEO3eG-My3",
        "colab_type": "code",
        "colab": {
          "base_uri": "https://localhost:8080/",
          "height": 119
        },
        "outputId": "00b2173c-18ff-4df2-ce38-1bb87f9fc934"
      },
      "source": [
        "testX, y_true, tecols = prepare_data(df2)\n",
        "print(testX.shape, y_true.shape)"
      ],
      "execution_count": 13,
      "outputs": [
        {
          "output_type": "stream",
          "text": [
            "(76, 27) (76,)\n"
          ],
          "name": "stdout"
        },
        {
          "output_type": "stream",
          "text": [
            "/usr/local/lib/python3.6/dist-packages/pandas/core/frame.py:4025: SettingWithCopyWarning: \n",
            "A value is trying to be set on a copy of a slice from a DataFrame\n",
            "\n",
            "See the caveats in the documentation: http://pandas.pydata.org/pandas-docs/stable/indexing.html#indexing-view-versus-copy\n",
            "  return super(DataFrame, self).rename(**kwargs)\n"
          ],
          "name": "stderr"
        }
      ]
    },
    {
      "cell_type": "code",
      "metadata": {
        "id": "-iLtEXNDzoH3",
        "colab_type": "code",
        "colab": {}
      },
      "source": [
        "from sklearn.linear_model import LogisticRegression\n",
        "from sklearn.ensemble import RandomForestClassifier\n",
        "from sklearn.svm import SVC\n",
        "from sklearn.metrics import confusion_matrix"
      ],
      "execution_count": 0,
      "outputs": []
    },
    {
      "cell_type": "code",
      "metadata": {
        "id": "-1tSM0cQFfbK",
        "colab_type": "code",
        "colab": {}
      },
      "source": [
        "from sklearn.metrics import accuracy_score, precision_score, recall_score, f1_score"
      ],
      "execution_count": 0,
      "outputs": []
    },
    {
      "cell_type": "code",
      "metadata": {
        "id": "HmJoigZrCAws",
        "colab_type": "code",
        "colab": {}
      },
      "source": [
        "lr = LogisticRegression(solver='lbfgs', max_iter=2000)\n",
        "rfc = RandomForestClassifier(n_estimators=100)\n",
        "svm = SVC(C=1.0)"
      ],
      "execution_count": 0,
      "outputs": []
    },
    {
      "cell_type": "code",
      "metadata": {
        "id": "p7vUDlcpzn9N",
        "colab_type": "code",
        "colab": {
          "base_uri": "https://localhost:8080/",
          "height": 337
        },
        "outputId": "2be66adb-7675-4c1d-b2e4-6bf0fe1f321f"
      },
      "source": [
        "clf=lr\n",
        "m=clf.fit(trainX, trainY)\n",
        "y_pred=clf.predict(testX)\n",
        "cm=confusion_matrix(y_true, y_pred)\n",
        "cmdf=pd.DataFrame(cm,index=[\"true 0\", \"true 1\"], columns=[\"pred 0\", \"pred 1\"])\n",
        "print(cmdf)\n",
        "sns.heatmap(cmdf,annot=True,annot_kws={\"size\": 16})"
      ],
      "execution_count": 31,
      "outputs": [
        {
          "output_type": "stream",
          "text": [
            "        pred 0  pred 1\n",
            "true 0      40       2\n",
            "true 1       5      29\n"
          ],
          "name": "stdout"
        },
        {
          "output_type": "execute_result",
          "data": {
            "text/plain": [
              "<matplotlib.axes._subplots.AxesSubplot at 0x7fd38233d9b0>"
            ]
          },
          "metadata": {
            "tags": []
          },
          "execution_count": 31
        },
        {
          "output_type": "display_data",
          "data": {
            "image/png": "[encoded data removed]",
            "text/plain": [
              "<Figure size 432x288 with 2 Axes>"
            ]
          },
          "metadata": {
            "tags": []
          }
        }
      ]
    },
    {
      "cell_type": "code",
      "metadata": {
        "id": "ByFz8NMXHov8",
        "colab_type": "code",
        "colab": {
          "base_uri": "https://localhost:8080/",
          "height": 289
        },
        "outputId": "bace53d4-554e-45ed-e2cc-b81d1f1a4ce0"
      },
      "source": [
        "for i,j in zip([lr, rfc, svc], ['lr', 'rfc', 'svc']):\n",
        "  print(i,j)"
      ],
      "execution_count": 39,
      "outputs": [
        {
          "output_type": "stream",
          "text": [
            "LogisticRegression(C=1.0, class_weight=None, dual=False, fit_intercept=True,\n",
            "                   intercept_scaling=1, l1_ratio=None, max_iter=2000,\n",
            "                   multi_class='warn', n_jobs=None, penalty='l2',\n",
            "                   random_state=None, solver='lbfgs', tol=0.0001, verbose=0,\n",
            "                   warm_start=False) lr\n",
            "RandomForestClassifier(bootstrap=True, class_weight=None, criterion='gini',\n",
            "                       max_depth=None, max_features='auto', max_leaf_nodes=None,\n",
            "                       min_impurity_decrease=0.0, min_impurity_split=None,\n",
            "                       min_samples_leaf=1, min_samples_split=2,\n",
            "                       min_weight_fraction_leaf=0.0, n_estimators=100,\n",
            "                       n_jobs=None, oob_score=False, random_state=None,\n",
            "                       verbose=0, warm_start=False) rfc\n",
            "LinearSVC(C=1.0, class_weight=None, dual=True, fit_intercept=True,\n",
            "          intercept_scaling=1, loss='squared_hinge', max_iter=1000,\n",
            "          multi_class='ovr', penalty='l2', random_state=None, tol=0.0001,\n",
            "          verbose=0) svc\n"
          ],
          "name": "stdout"
        }
      ]
    },
    {
      "cell_type": "code",
      "metadata": {
        "id": "hYBLxzofzn5k",
        "colab_type": "code",
        "colab": {
          "base_uri": "https://localhost:8080/",
          "height": 71
        },
        "outputId": "bfe14cb1-8496-4fbc-8567-112da4d5a226"
      },
      "source": [
        "clfnames=['Logistic Regression', 'Random Forest Classifier', 'Support Vector Machine']\n",
        "rep=[]\n",
        "for clf, name in zip([lr, rfc, svc], clfnames):\n",
        "  m=clf.fit(trainX, trainY)\n",
        "  y_pred=clf.predict(testX)\n",
        "  accuracy=accuracy_score(y_true, y_pred)\n",
        "  precision=precision_score(y_true, y_pred)\n",
        "  recall=recall_score(y_true, y_pred)\n",
        "  f1=f1_score(y_true, y_pred)\n",
        "  rep.append([name,accuracy,precision,recall,f1])"
      ],
      "execution_count": 43,
      "outputs": [
        {
          "output_type": "stream",
          "text": [
            "/usr/local/lib/python3.6/dist-packages/sklearn/svm/base.py:929: ConvergenceWarning: Liblinear failed to converge, increase the number of iterations.\n",
            "  \"the number of iterations.\", ConvergenceWarning)\n"
          ],
          "name": "stderr"
        }
      ]
    },
    {
      "cell_type": "code",
      "metadata": {
        "id": "G7RsuFiDEI1b",
        "colab_type": "code",
        "colab": {
          "base_uri": "https://localhost:8080/",
          "height": 173
        },
        "outputId": "2d963009-e7b4-402f-ed22-1136e400a0da"
      },
      "source": [
        "pd.DataFrame(rep, columns=['classifier', 'accuracy', 'precision', 'recall', 'f1_score']).set_index('classifier')"
      ],
      "execution_count": 45,
      "outputs": [
        {
          "output_type": "execute_result",
          "data": {
            "text/html": [
              "<div>\n",
              "<style scoped>\n",
              "    .dataframe tbody tr th:only-of-type {\n",
              "        vertical-align: middle;\n",
              "    }\n",
              "\n",
              "    .dataframe tbody tr th {\n",
              "        vertical-align: top;\n",
              "    }\n",
              "\n",
              "    .dataframe thead th {\n",
              "        text-align: right;\n",
              "    }\n",
              "</style>\n",
              "<table border=\"1\" class=\"dataframe\">\n",
              "  <thead>\n",
              "    <tr style=\"text-align: right;\">\n",
              "      <th></th>\n",
              "      <th>accuracy</th>\n",
              "      <th>precision</th>\n",
              "      <th>recall</th>\n",
              "      <th>f1_score</th>\n",
              "    </tr>\n",
              "    <tr>\n",
              "      <th>classifier</th>\n",
              "      <th></th>\n",
              "      <th></th>\n",
              "      <th></th>\n",
              "      <th></th>\n",
              "    </tr>\n",
              "  </thead>\n",
              "  <tbody>\n",
              "    <tr>\n",
              "      <th>Logistic Regression</th>\n",
              "      <td>0.907895</td>\n",
              "      <td>0.935484</td>\n",
              "      <td>0.852941</td>\n",
              "      <td>0.892308</td>\n",
              "    </tr>\n",
              "    <tr>\n",
              "      <th>Random Forest Classifier</th>\n",
              "      <td>0.881579</td>\n",
              "      <td>0.878788</td>\n",
              "      <td>0.852941</td>\n",
              "      <td>0.865672</td>\n",
              "    </tr>\n",
              "    <tr>\n",
              "      <th>Support Vector Machine</th>\n",
              "      <td>0.578947</td>\n",
              "      <td>1.000000</td>\n",
              "      <td>0.058824</td>\n",
              "      <td>0.111111</td>\n",
              "    </tr>\n",
              "  </tbody>\n",
              "</table>\n",
              "</div>"
            ],
            "text/plain": [
              "                          accuracy  precision    recall  f1_score\n",
              "classifier                                                       \n",
              "Logistic Regression       0.907895   0.935484  0.852941  0.892308\n",
              "Random Forest Classifier  0.881579   0.878788  0.852941  0.865672\n",
              "Support Vector Machine    0.578947   1.000000  0.058824  0.111111"
            ]
          },
          "metadata": {
            "tags": []
          },
          "execution_count": 45
        }
      ]
    },
    {
      "cell_type": "markdown",
      "metadata": {
        "id": "-v-hCDam93du",
        "colab_type": "text"
      },
      "source": [
        "Additional features that could be added:\n",
        "\n",
        "\n",
        "1.   number of changes from last match (for each year). Team that change a lot may be less prone to winning\n",
        "2.  Past League performance\n",
        "\n"
      ]
    },
    {
      "cell_type": "code",
      "metadata": {
        "id": "5MHUbxfH98Gu",
        "colab_type": "code",
        "colab": {}
      },
      "source": [
        ""
      ],
      "execution_count": 0,
      "outputs": []
    }
  ]
}